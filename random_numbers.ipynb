{
 "cells": [
  {
   "cell_type": "code",
   "execution_count": 1,
   "id": "36fc7b54",
   "metadata": {},
   "outputs": [],
   "source": [
    "# Import the random module\n",
    "import random"
   ]
  },
  {
   "cell_type": "code",
   "execution_count": 3,
   "id": "1551fac6",
   "metadata": {},
   "outputs": [
    {
     "data": {
      "text/plain": [
       "0.11818556792534685"
      ]
     },
     "execution_count": 3,
     "metadata": {},
     "output_type": "execute_result"
    }
   ],
   "source": [
    "random.random()"
   ]
  },
  {
   "cell_type": "code",
   "execution_count": 6,
   "id": "afead40e",
   "metadata": {},
   "outputs": [
    {
     "data": {
      "text/plain": [
       "-8"
      ]
     },
     "execution_count": 6,
     "metadata": {},
     "output_type": "execute_result"
    }
   ],
   "source": [
    "random.randint(-10,10)"
   ]
  },
  {
   "cell_type": "code",
   "execution_count": 7,
   "id": "7e20ac98",
   "metadata": {},
   "outputs": [
    {
     "data": {
      "text/plain": [
       "5"
      ]
     },
     "execution_count": 7,
     "metadata": {},
     "output_type": "execute_result"
    }
   ],
   "source": [
    "random.randrange(-9,9,2)"
   ]
  },
  {
   "cell_type": "code",
   "execution_count": 8,
   "id": "7acfa7e4",
   "metadata": {},
   "outputs": [
    {
     "data": {
      "text/plain": [
       "-0.9243140040503146"
      ]
     },
     "execution_count": 8,
     "metadata": {},
     "output_type": "execute_result"
    }
   ],
   "source": [
    "random.uniform(-10,10)"
   ]
  },
  {
   "cell_type": "code",
   "execution_count": 9,
   "id": "56fa81b5",
   "metadata": {},
   "outputs": [
    {
     "data": {
      "text/plain": [
       "15.670286516184282"
      ]
     },
     "execution_count": 9,
     "metadata": {},
     "output_type": "execute_result"
    }
   ],
   "source": [
    "random_number = random.randint(-90, 89) + random.random()\n",
    "random_number"
   ]
  },
  {
   "cell_type": "code",
   "execution_count": 11,
   "id": "7453f6cb",
   "metadata": {},
   "outputs": [
    {
     "data": {
      "text/plain": [
       "[-58.422642534027794,\n",
       " -26.25825788436524,\n",
       " -37.063802153830736,\n",
       " 4.399211603134869,\n",
       " 1.28572275208984,\n",
       " 28.892873085093527,\n",
       " 30.417669647388415,\n",
       " -35.11804703422715,\n",
       " 71.48695569886391,\n",
       " 75.48045975056426]"
      ]
     },
     "execution_count": 11,
     "metadata": {},
     "output_type": "execute_result"
    }
   ],
   "source": [
    "x = 1\n",
    "latitudes = []\n",
    "while x < 11:\n",
    "    random_lat = random.randint(-90, 89) + random.random()\n",
    "    latitudes.append(random_lat)\n",
    "    x +=1\n",
    "latitudes"
   ]
  },
  {
   "cell_type": "code",
   "execution_count": 12,
   "id": "75934fad",
   "metadata": {},
   "outputs": [],
   "source": [
    "# Import the NumPy module\n",
    "import numpy as np"
   ]
  },
  {
   "cell_type": "code",
   "execution_count": 13,
   "id": "f531b6c0",
   "metadata": {},
   "outputs": [
    {
     "data": {
      "text/plain": [
       "-46.23465455664532"
      ]
     },
     "execution_count": 13,
     "metadata": {},
     "output_type": "execute_result"
    }
   ],
   "source": [
    "np.random.uniform(-90.000, 90.000)"
   ]
  },
  {
   "cell_type": "code",
   "execution_count": 14,
   "id": "098899d0",
   "metadata": {},
   "outputs": [
    {
     "data": {
      "text/plain": [
       "array([ -6.2974598 ,  52.577923  ,  84.45406185,  11.48504486,\n",
       "       -51.48798909, -69.10756359, -41.52301859,  80.01379447,\n",
       "         9.75305955,  48.0730326 , -16.0589664 , -77.88895446,\n",
       "        82.63606841, -63.14358273,  56.45090577, -15.03211511,\n",
       "        33.99689097,  35.1909889 ,  14.24173143, -72.88156804,\n",
       "       -20.60470137, -74.05227716, -69.63516935,  33.08333368,\n",
       "       -20.46189728,  59.9349304 ,  18.18249614,  32.98388493,\n",
       "        53.72984668,  73.94647702,  75.73645455,  -4.15811814,\n",
       "       -87.04188337,  77.32929353,  10.82113915, -39.58385976,\n",
       "        27.25364787,  77.25610736, -57.67390724,  69.42517789,\n",
       "        13.80032796, -43.73562147, -49.76075103, -16.0908782 ,\n",
       "        40.59043315, -89.38122531, -33.83857225, -28.96832403,\n",
       "         2.89159172,  49.99291256])"
      ]
     },
     "execution_count": 14,
     "metadata": {},
     "output_type": "execute_result"
    }
   ],
   "source": [
    "np.random.uniform(-90.000, 90.000, size=50)"
   ]
  },
  {
   "cell_type": "code",
   "execution_count": 17,
   "id": "a2f3110b",
   "metadata": {},
   "outputs": [],
   "source": [
    "# Import timeit\n",
    "import timeit"
   ]
  },
  {
   "cell_type": "code",
   "execution_count": 16,
   "id": "26fa7559",
   "metadata": {},
   "outputs": [
    {
     "name": "stdout",
     "output_type": "stream",
     "text": [
      "12.7 µs ± 24.4 ns per loop (mean ± std. dev. of 7 runs, 100,000 loops each)\n"
     ]
    }
   ],
   "source": [
    "%timeit np.random.uniform(-90.000, 90.000, size=1500)"
   ]
  },
  {
   "cell_type": "code",
   "execution_count": 21,
   "id": "af49a657",
   "metadata": {},
   "outputs": [
    {
     "name": "stdout",
     "output_type": "stream",
     "text": [
      "1.18 ms ± 6.66 µs per loop (mean ± std. dev. of 7 runs, 1,000 loops each)\n"
     ]
    }
   ],
   "source": [
    "def latitudes(size):\n",
    "    latitudes = []\n",
    "    x = 0\n",
    "    while x < (size):\n",
    "        random_lat = random.randint(-90, 90) + random.random()\n",
    "        latitudes.append(random_lat)\n",
    "        x += 1\n",
    "    return latitudes\n",
    "# Call the function with 1500\n",
    "%timeit latitudes(1500)"
   ]
  },
  {
   "cell_type": "code",
   "execution_count": null,
   "id": "f2e89fd9",
   "metadata": {},
   "outputs": [],
   "source": []
  }
 ],
 "metadata": {
  "kernelspec": {
   "display_name": "PythonData",
   "language": "python",
   "name": "pythondata"
  },
  "language_info": {
   "codemirror_mode": {
    "name": "ipython",
    "version": 3
   },
   "file_extension": ".py",
   "mimetype": "text/x-python",
   "name": "python",
   "nbconvert_exporter": "python",
   "pygments_lexer": "ipython3",
   "version": "3.9.12"
  }
 },
 "nbformat": 4,
 "nbformat_minor": 5
}
